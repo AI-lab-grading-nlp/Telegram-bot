{
 "cells": [
  {
   "cell_type": "code",
   "execution_count": 4,
   "metadata": {},
   "outputs": [
    {
     "data": {
      "text/plain": [
       "<OpenAIObject chat.completion id=chatcmpl-6pWr10siUIyibpGSbDGO7jllcb8ar at 0x191601d6030> JSON: {\n",
       "  \"choices\": [\n",
       "    {\n",
       "      \"finish_reason\": \"stop\",\n",
       "      \"index\": 0,\n",
       "      \"message\": {\n",
       "        \"content\": \"Let's have a quiz on the source text! \\n\\nQuestion 1: What is the purpose of unit testing? \\n\\n1. To write code without keeping requirements in mind \\n2. To ensure that the code works in isolation \\n3. To ignore changes in code and requirements \\n4. To break other people's code \\n\\nexplanation: The correct answer is labeled with 2. To ensure that the code works in isolation because unit tests are written for small units or parts of the code to make sure they operate as intended. \\n\\nQuestion 2: Python has a unit testing framework called _____________. \\n\\n1. unittest \\n2. pytest \\n3. nose \\n4. main \\n\\nexplanation: The correct answer is labeled with 1. unittest because it is a built-in module that provides a framework for creating and running tests. \\n\\nQuestion 3: When should unit tests be written? \\n\\n1. After code is written \\n2. Before requirements are detailed \\n3. Before testing any other code \\n4. Constantly updating \\n\\nexplanation: The correct answer is labeled with 4. Constantly updating. Although writing tests early on is recommended, it is important to keep them updated as the code and requirements change. \\n\\nQuestion 4: What is the benefit of having a comprehensive test suite when writing code in a team? \\n\\n1. To decrease chances of breaking someone else's code \\n2. To increase the complexity of the code base \\n3. To make the code more difficult to test \\n4. To waste time running tests \\n\\nexplanation: The correct answer is labeled with 1. To decrease chances of breaking someone else's code because a comprehensive test suite ensures that the code can be run along with others without any conflicts, decreasing the chances of breaking someone else's code.\",\n",
       "        \"role\": \"assistant\"\n",
       "      }\n",
       "    }\n",
       "  ],\n",
       "  \"created\": 1677739039,\n",
       "  \"id\": \"chatcmpl-6pWr10siUIyibpGSbDGO7jllcb8ar\",\n",
       "  \"model\": \"gpt-3.5-turbo-0301\",\n",
       "  \"object\": \"chat.completion\",\n",
       "  \"usage\": {\n",
       "    \"completion_tokens\": 365,\n",
       "    \"prompt_tokens\": 502,\n",
       "    \"total_tokens\": 867\n",
       "  }\n",
       "}"
      ]
     },
     "execution_count": 4,
     "metadata": {},
     "output_type": "execute_result"
    }
   ],
   "source": [
    "# Note: you need to be using OpenAI Python v0.27.0 for the code below to work\n",
    "import os\n",
    "import openai\n",
    "from io import StringIO\n",
    "\n",
    "from dotenv import load_dotenv, find_dotenv\n",
    "load_dotenv()\n",
    "\n",
    "\n",
    "openai.api_key = os.getenv(\"OPENAI_API_KEY\")\n",
    "openai.organization = os.getenv(\"OPENAI_ORG\")\n",
    "\n",
    "openai.ChatCompletion.create(\n",
    "  model=\"gpt-3.5-turbo\",\n",
    "  messages=[\n",
    "        {\"role\": \"system\", \"content\": \"Bob is a chatbot that gives a multiple choice quiz based on a source text with 4 options labeled from 1 to 4 alongside an explanation for the correct answer in the following format: \\n\\n Question \\n\\n 1. option 1 \\n 2. option 2 \\n 3. option 3 \\n 4. option 4  \\n\\n explanation: ... \\n\\n The correct answer is labeled with a * \\n\\n Question \\n\\n 1. option 1 \\n 2. option 2 \\n 3. option 3 \\n 4. option 4 * \\n\\n explanation: The correct answer is option 4 because ... . The options are kept less than 100 characters. \\n\\n The source text is: \\n\\n\"},\n",
    "        {\"role\": \"system\", \"content\": '''This is called test-driven development, or tdd. The set of two conversion functions — to_roman(), and later from_roman() — can be written and tested as a unit, separate from any larger program that imports them. Python has a framework for unit testing, the appropriately-named unittest module.\n",
    "\n",
    "Unit testing is an important part of an overall testing-centric development strategy. If you write unit tests, it is important to write them early and to keep them updated as code and requirements change. Many people advocate writing tests before they write the code they’re testing, and that’s the style I’m going to demonstrate in this chapter. But unit tests are beneficial no matter when you write them.\n",
    "\n",
    "Before writing code, writing unit tests forces you to detail your requirements in a useful fashion.\n",
    "While writing code, unit tests keep you from over-coding. When all the test cases pass, the function is complete.\n",
    "When refactoring code, they can help prove that the new version behaves the same way as the old version.\n",
    "When maintaining code, having tests will help you cover your ass when someone comes screaming that your latest change broke their old code. (“But sir, all the unit tests passed when I checked it in...”)\n",
    "When writing code in a team, having a comprehensive test suite dramatically decreases the chances that your code will break someone else’s code, because you can run their unit tests first. (I’ve seen this sort of thing in code sprints. A team breaks up the assignment, everybody takes the specs for their task, writes unit tests for it, then shares their unit tests with the rest of the team. That way, nobody goes off too far into developing code that doesn’t play well with others.'''},\n",
    "    ]\n",
    ")"
   ]
  },
  {
   "cell_type": "code",
   "execution_count": null,
   "metadata": {},
   "outputs": [],
   "source": []
  }
 ],
 "metadata": {
  "kernelspec": {
   "display_name": "venv",
   "language": "python",
   "name": "python3"
  },
  "language_info": {
   "codemirror_mode": {
    "name": "ipython",
    "version": 3
   },
   "file_extension": ".py",
   "mimetype": "text/x-python",
   "name": "python",
   "nbconvert_exporter": "python",
   "pygments_lexer": "ipython3",
   "version": "3.11.1"
  },
  "orig_nbformat": 4,
  "vscode": {
   "interpreter": {
    "hash": "ed1ec4579ea88c17de6aa1ca6b120dba41853ade6bd5bfa01821f60714ccef34"
   }
  }
 },
 "nbformat": 4,
 "nbformat_minor": 2
}
