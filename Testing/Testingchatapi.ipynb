{
 "cells": [
  {
   "cell_type": "code",
   "execution_count": 1,
   "metadata": {},
   "outputs": [],
   "source": [
    "# Note: you need to be using OpenAI Python v0.27.0 for the code below to work\n",
    "import os\n",
    "import openai\n",
    "from io import StringIO\n",
    "\n",
    "from dotenv import load_dotenv, find_dotenv\n",
    "load_dotenv()\n",
    "\n",
    "\n",
    "openai.api_key = os.getenv(\"OPENAI_API_KEY\")\n",
    "openai.organization = os.getenv(\"OPENAI_ORG\")\n",
    "\n",
    "messages = [\n",
    "  {\"role\": \"system\", \"content\": \"You are a chatbot that gives a multiple choice quiz based on a source text with 4 options labeled from 1 to 4 alongside an explanation for the correct answer in the following format: \\n\\n Question \\n\\n 1. option 1 \\n 2. option 2 \\n 3. option 3 \\n 4. option 4  \\n\\n explanation: ... \\n\\n The correct answer is labeled with a * \\n\\n Question \\n\\n 1. option 1 \\n 2. option 2 \\n 3. option 3 \\n 4. option 4 * \\n\\n explanation: The correct answer is option 4 because ... . The options are kept less than 100 characters. \\n\\n The source text is: \\n\\n\"}\n",
    "]\n",
    "\n",
    "input = '''\n",
    "You are a chatbot that gives multiple choice quizzes based on a source text with 4 options labeled from 1 to 4 alongside an explanation for the correct answer in the following format: \\n\\n Question \\n\\n 1. option 1 \\n 2. option 2 \\n 3. option 3 \\n 4. option 4  \\n\\n explanation: ... \\n\\n The correct answer is labeled with a * \\n\\n Question \\n\\n 1. option 1 \\n 2. option 2 \\n 3. option 3 \\n 4. option 4 * \\n\\n explanation: The correct answer is option 4 because ... . The options are kept less than 100 characters. \\n\\n The source text is: \\n\\n\n",
    "\n",
    "This is called test-driven development, or tdd. The set of two conversion functions — to_roman(), and later from_roman() — can be written and tested as a unit, separate from any larger program that imports them. Python has a framework for unit testing, the appropriately-named unittest module.\n",
    "\n",
    "Unit testing is an important part of an overall testing-centric development strategy. If you write unit tests, it is important to write them early and to keep them updated as code and requirements change. Many people advocate writing tests before they write the code they’re testing, and that’s the style I’m going to demonstrate in this chapter. But unit tests are beneficial no matter when you write them.\n",
    "\n",
    "Before writing code, writing unit tests forces you to detail your requirements in a useful fashion.\n",
    "While writing code, unit tests keep you from over-coding. When all the test cases pass, the function is complete.\n",
    "When refactoring code, they can help prove that the new version behaves the same way as the old version.\n",
    "When maintaining code, having tests will help you cover your ass when someone comes screaming that your latest change broke their old code. (“But sir, all the unit tests passed when I checked it in...”)\n",
    "When writing code in a team, having a comprehensive test suite dramatically decreases the chances that your code will break someone else’s code, because you can run their unit tests first. (I’ve seen this sort of thing in code sprints. A team breaks up the assignment, everybody takes the specs for their task, writes unit tests for it, then shares their unit tests with the rest of the team. That way, nobody goes off too far into developing code that doesn’t play well with others.\n",
    "'''\n",
    "\n",
    "messages.append({\"role\": \"system\", \"content\": input})"
   ]
  },
  {
   "cell_type": "code",
   "execution_count": null,
   "metadata": {},
   "outputs": [],
   "source": []
  },
  {
   "cell_type": "code",
   "execution_count": 2,
   "metadata": {},
   "outputs": [],
   "source": [
    "response = openai.ChatCompletion.create(\n",
    "    model=\"gpt-3.5-turbo\",\n",
    "    messages=messages,\n",
    ")"
   ]
  },
  {
   "cell_type": "code",
   "execution_count": 4,
   "metadata": {},
   "outputs": [
    {
     "data": {
      "text/plain": [
       "\"Let's start the quiz! \\n\\nQuestion 1:\\nWhat is tdd?\\n\\n1. A conversion function\\n2. A unit testing module in Python\\n3. A development strategy that emphasizes writing tests before coding\\n4. A way to break someone else’s code\\n\\nExplanation: \\n\\nThe correct answer is option 3 because the source text defines TDD as a development strategy that emphasizes writing tests before coding.\""
      ]
     },
     "execution_count": 4,
     "metadata": {},
     "output_type": "execute_result"
    }
   ],
   "source": [
    "response['choices'][0]['message']['content']"
   ]
  },
  {
   "cell_type": "code",
   "execution_count": 25,
   "metadata": {},
   "outputs": [
    {
     "name": "stdout",
     "output_type": "stream",
     "text": [
      "[<OpenAIObject at 0x18f3361a8d0> JSON: {\n",
      "  \"finish_reason\": \"stop\",\n",
      "  \"index\": 0,\n",
      "  \"logprobs\": null,\n",
      "  \"text\": \"\\nQuestion: What is the main benefit of having unit tests? \\n\\n1. Unit tests can help prove that the new version behaves the same way as the old version. \\n2. Before writing code, writing unit tests forces you to detail your requirements in a useful fashion. \\n3. Many people advocate writing tests before they write the code they\\u2019re testing. \\n4. Unit tests keep you from over-coding and help cover your ass when changes are made. *\\n\\nExplanation: The correct answer is option 4 because unit tests can help prove that the new version behaves the same way as the old version, before writing code they force you to detail your requirements and there is an advocating of writing tests before writing the code, and they also keep you from over-coding and help cover your ass when changes are made.\"\n",
      "}, <OpenAIObject at 0x18f4c500c50> JSON: {\n",
      "  \"finish_reason\": \"stop\",\n",
      "  \"index\": 1,\n",
      "  \"logprobs\": null,\n",
      "  \"text\": \"\\nQuestion: What is the benefit of writing unit tests? \\n\\n1. To demonstrate test-driven development \\n2. To detail requirements in a useful fashion \\n3. To keep from over-coding \\n4. To cover one's ass when a change breaks code * \\n\\nExplanation: The correct answer is option 4 because unit tests can help prove that when a change is made, it does not break other code.\"\n",
      "}, <OpenAIObject at 0x18f4c500cb0> JSON: {\n",
      "  \"finish_reason\": \"stop\",\n",
      "  \"index\": 2,\n",
      "  \"logprobs\": null,\n",
      "  \"text\": \"\\nQuestion: What is the main benefit of unit testing?\\n\\n1. It helps you write code faster. \\n2. It helps you cover your ass when a change breaks existing code. \\n3. It forces you to detail requirements before writing code. \\n4. It helps you avoid over-coding. * \\n\\nexplanation: The correct answer is option 4 because unit testing can help you avoid over-coding by providing a way to check when all the test cases pass, the function is complete.\"\n",
      "}]\n"
     ]
    }
   ],
   "source": [
    "def get_response(prompt: str) -> str:\n",
    "    response = openai.Completion.create(\n",
    "        model=\"text-davinci-003\",\n",
    "        prompt=prompt,\n",
    "        temperature=0.9,\n",
    "        max_tokens=1024,\n",
    "        top_p=1,\n",
    "        frequency_penalty=0,\n",
    "        presence_penalty=0,\n",
    "    )\n",
    "\n",
    "    return response.choices\n",
    "\n",
    "print(get_response(input))"
   ]
  },
  {
   "cell_type": "code",
   "execution_count": 9,
   "metadata": {},
   "outputs": [
    {
     "ename": "NameError",
     "evalue": "name 'response' is not defined",
     "output_type": "error",
     "traceback": [
      "\u001b[1;31m---------------------------------------------------------------------------\u001b[0m",
      "\u001b[1;31mNameError\u001b[0m                                 Traceback (most recent call last)",
      "Cell \u001b[1;32mIn[9], line 1\u001b[0m\n\u001b[1;32m----> 1\u001b[0m messages\u001b[39m.\u001b[39mappend(\u001b[39mdict\u001b[39m(response[\u001b[39m'\u001b[39m\u001b[39mchoices\u001b[39m\u001b[39m'\u001b[39m][\u001b[39m0\u001b[39m][\u001b[39m'\u001b[39m\u001b[39mmessage\u001b[39m\u001b[39m'\u001b[39m]))\n",
      "\u001b[1;31mNameError\u001b[0m: name 'response' is not defined"
     ]
    }
   ],
   "source": [
    "messages.append(dict(response['choices'][0]['message']))"
   ]
  },
  {
   "cell_type": "code",
   "execution_count": 22,
   "metadata": {},
   "outputs": [],
   "source": [
    "messages.append({'role': 'user', 'content': 'What does test driven development mean in this scenario?'})"
   ]
  },
  {
   "cell_type": "code",
   "execution_count": 23,
   "metadata": {},
   "outputs": [
    {
     "data": {
      "text/plain": [
       "[{'role': 'system',\n",
       "  'content': 'You are a chatbot that gives a multiple choice quiz based on a source text with 4 options labeled from 1 to 4 alongside an explanation for the correct answer in the following format: \\n\\n Question \\n\\n 1. option 1 \\n 2. option 2 \\n 3. option 3 \\n 4. option 4  \\n\\n explanation: ... \\n\\n The correct answer is labeled with a * \\n\\n Question \\n\\n 1. option 1 \\n 2. option 2 \\n 3. option 3 \\n 4. option 4 * \\n\\n explanation: The correct answer is option 4 because ... . The options are kept less than 100 characters. \\n\\n The source text is: \\n\\n'},\n",
       " {'role': 'system',\n",
       "  'content': 'This is called test-driven development, or tdd. The set of two conversion functions — to_roman(), and later from_roman() — can be written and tested as a unit, separate from any larger program that imports them. Python has a framework for unit testing, the appropriately-named unittest module.\\n\\nUnit testing is an important part of an overall testing-centric development strategy. If you write unit tests, it is important to write them early and to keep them updated as code and requirements change. Many people advocate writing tests before they write the code they’re testing, and that’s the style I’m going to demonstrate in this chapter. But unit tests are beneficial no matter when you write them.\\n\\nBefore writing code, writing unit tests forces you to detail your requirements in a useful fashion.\\nWhile writing code, unit tests keep you from over-coding. When all the test cases pass, the function is complete.\\nWhen refactoring code, they can help prove that the new version behaves the same way as the old version.\\nWhen maintaining code, having tests will help you cover your ass when someone comes screaming that your latest change broke their old code. (“But sir, all the unit tests passed when I checked it in...”)\\nWhen writing code in a team, having a comprehensive test suite dramatically decreases the chances that your code will break someone else’s code, because you can run their unit tests first. (I’ve seen this sort of thing in code sprints. A team breaks up the assignment, everybody takes the specs for their task, writes unit tests for it, then shares their unit tests with the rest of the team. That way, nobody goes off too far into developing code that doesn’t play well with others.'},\n",
       " {'role': 'assistant',\n",
       "  'content': 'Question\\n\\n1. What is test-driven development?\\n\\n1. A testing-centric development strategy\\n2. Writing code and then testing it\\n3. A development strategy focused on unit testing\\n4. Writing unit tests after writing code \\n\\nAnswer: *\\n1. A testing-centric development strategy \\n\\nExplanation: Test-driven development is a testing-centric development strategy where unit tests are written before the code is written.'},\n",
       " {'role': 'user',\n",
       "  'content': 'What does test driven development mean in this scenario?'}]"
      ]
     },
     "execution_count": 23,
     "metadata": {},
     "output_type": "execute_result"
    }
   ],
   "source": [
    "messages"
   ]
  },
  {
   "cell_type": "code",
   "execution_count": 24,
   "metadata": {},
   "outputs": [
    {
     "data": {
      "text/plain": [
       "<OpenAIObject chat.completion id=chatcmpl-74WqRGqYx0bxPrGPcKi2AO6pHhivX at 0x1caecb137d0> JSON: {\n",
       "  \"choices\": [\n",
       "    {\n",
       "      \"finish_reason\": \"stop\",\n",
       "      \"index\": 0,\n",
       "      \"message\": {\n",
       "        \"content\": \"In this scenario, test-driven development refers to a development strategy that emphasizes writing unit tests before writing the actual code. The developer writes a test case that defines the desired behavior of a new feature or bug fix and then writes the code that makes that test pass. This iterative process of writing tests, then code, then verifying that the tests pass, allows the developer to quickly detect and fix problems early in the development process.\",\n",
       "        \"role\": \"assistant\"\n",
       "      }\n",
       "    }\n",
       "  ],\n",
       "  \"created\": 1681313923,\n",
       "  \"id\": \"chatcmpl-74WqRGqYx0bxPrGPcKi2AO6pHhivX\",\n",
       "  \"model\": \"gpt-3.5-turbo-0301\",\n",
       "  \"object\": \"chat.completion\",\n",
       "  \"usage\": {\n",
       "    \"completion_tokens\": 84,\n",
       "    \"prompt_tokens\": 602,\n",
       "    \"total_tokens\": 686\n",
       "  }\n",
       "}"
      ]
     },
     "execution_count": 24,
     "metadata": {},
     "output_type": "execute_result"
    }
   ],
   "source": [
    "openai.ChatCompletion.create(\n",
    "    model=\"gpt-3.5-turbo\",\n",
    "    messages=messages,\n",
    ")"
   ]
  },
  {
   "cell_type": "code",
   "execution_count": null,
   "metadata": {},
   "outputs": [],
   "source": []
  }
 ],
 "metadata": {
  "kernelspec": {
   "display_name": "venv",
   "language": "python",
   "name": "python3"
  },
  "language_info": {
   "codemirror_mode": {
    "name": "ipython",
    "version": 3
   },
   "file_extension": ".py",
   "mimetype": "text/x-python",
   "name": "python",
   "nbconvert_exporter": "python",
   "pygments_lexer": "ipython3",
   "version": "3.11.1"
  },
  "orig_nbformat": 4,
  "vscode": {
   "interpreter": {
    "hash": "ed1ec4579ea88c17de6aa1ca6b120dba41853ade6bd5bfa01821f60714ccef34"
   }
  }
 },
 "nbformat": 4,
 "nbformat_minor": 2
}
